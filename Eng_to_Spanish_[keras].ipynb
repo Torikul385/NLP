{
  "nbformat": 4,
  "nbformat_minor": 0,
  "metadata": {
    "colab": {
      "provenance": [],
      "gpuType": "T4",
      "authorship_tag": "ABX9TyMaJ+FgWW1mgIdwWVwaL8bL",
      "include_colab_link": true
    },
    "kernelspec": {
      "name": "python3",
      "display_name": "Python 3"
    },
    "language_info": {
      "name": "python"
    },
    "accelerator": "GPU"
  },
  "cells": [
    {
      "cell_type": "markdown",
      "metadata": {
        "id": "view-in-github",
        "colab_type": "text"
      },
      "source": [
        "<a href=\"https://colab.research.google.com/github/Torikul385/NLP/blob/main/Eng_to_Spanish_%5Bkeras%5D.ipynb\" target=\"_parent\"><img src=\"https://colab.research.google.com/assets/colab-badge.svg\" alt=\"Open In Colab\"/></a>"
      ]
    },
    {
      "cell_type": "code",
      "execution_count": 1,
      "metadata": {
        "colab": {
          "base_uri": "https://localhost:8080/"
        },
        "id": "TVnvyuh5m0ri",
        "outputId": "9b3a5986-d319-43b3-e91b-7374559a2772"
      },
      "outputs": [
        {
          "output_type": "stream",
          "name": "stdout",
          "text": [
            "\u001b[?25l   \u001b[90m━━━━━━━━━━━━━━━━━━━━━━━━━━━━━━━━━━━━━━━━\u001b[0m \u001b[32m0.0/1.1 MB\u001b[0m \u001b[31m?\u001b[0m eta \u001b[36m-:--:--\u001b[0m\r\u001b[2K   \u001b[91m━━━━━━━━━━━━━━━━━━\u001b[0m\u001b[91m╸\u001b[0m\u001b[90m━━━━━━━━━━━━━━━━━━━━━\u001b[0m \u001b[32m0.5/1.1 MB\u001b[0m \u001b[31m16.2 MB/s\u001b[0m eta \u001b[36m0:00:01\u001b[0m\r\u001b[2K   \u001b[90m━━━━━━━━━━━━━━━━━━━━━━━━━━━━━━━━━━━━━━━━\u001b[0m \u001b[32m1.1/1.1 MB\u001b[0m \u001b[31m16.2 MB/s\u001b[0m eta \u001b[36m0:00:00\u001b[0m\n",
            "\u001b[?25h"
          ]
        }
      ],
      "source": [
        "!pip install -q --upgrade tensorflow\n",
        "!pip install -q --upgrade keras"
      ]
    },
    {
      "cell_type": "code",
      "source": [
        "import os\n",
        "import numpy as np\n",
        "import matplotlib.pyplot as plt\n",
        "import string\n",
        "import re\n",
        "\n",
        "import keras\n",
        "from keras import layers, ops\n",
        "import tensorflow as tf"
      ],
      "metadata": {
        "id": "OzaDoTRAnBsO"
      },
      "execution_count": 2,
      "outputs": []
    },
    {
      "cell_type": "code",
      "source": [
        "!!wget -q http://storage.googleapis.com/download.tensorflow.org/data/spa-eng.zip"
      ],
      "metadata": {
        "colab": {
          "base_uri": "https://localhost:8080/"
        },
        "id": "fpfpYj3hoKqD",
        "outputId": "d00daf40-6e7c-46c1-aff0-056874e825b5"
      },
      "execution_count": 3,
      "outputs": [
        {
          "output_type": "execute_result",
          "data": {
            "text/plain": [
              "[]"
            ]
          },
          "metadata": {},
          "execution_count": 3
        }
      ]
    },
    {
      "cell_type": "code",
      "source": [
        "!!unzip -q spa-eng.zip"
      ],
      "metadata": {
        "colab": {
          "base_uri": "https://localhost:8080/"
        },
        "id": "E60F2IUtoRon",
        "outputId": "bffcb07b-43f4-47fe-8b29-5f3d2806ad77"
      },
      "execution_count": 4,
      "outputs": [
        {
          "output_type": "execute_result",
          "data": {
            "text/plain": [
              "[]"
            ]
          },
          "metadata": {},
          "execution_count": 4
        }
      ]
    },
    {
      "cell_type": "markdown",
      "source": [
        "###Parsing the data"
      ],
      "metadata": {
        "id": "Xt-Z-phNnmQK"
      }
    },
    {
      "cell_type": "code",
      "source": [
        "!!head -20 /content/spa-eng/spa.txt"
      ],
      "metadata": {
        "colab": {
          "base_uri": "https://localhost:8080/"
        },
        "id": "psdjIiIIo1HG",
        "outputId": "39700e5f-932d-480f-892b-0c56434e18ed"
      },
      "execution_count": 5,
      "outputs": [
        {
          "output_type": "execute_result",
          "data": {
            "text/plain": [
              "['Go.\\tVe.',\n",
              " 'Go.\\tVete.',\n",
              " 'Go.\\tVaya.',\n",
              " 'Go.\\tVáyase.',\n",
              " 'Hi.\\tHola.',\n",
              " 'Run!\\t¡Corre!',\n",
              " 'Run.\\tCorred.',\n",
              " 'Who?\\t¿Quién?',\n",
              " 'Fire!\\t¡Fuego!',\n",
              " 'Fire!\\t¡Incendio!',\n",
              " 'Fire!\\t¡Disparad!',\n",
              " 'Help!\\t¡Ayuda!',\n",
              " 'Help!\\t¡Socorro! ¡Auxilio!',\n",
              " 'Help!\\t¡Auxilio!',\n",
              " 'Jump!\\t¡Salta!',\n",
              " 'Jump.\\tSalte.',\n",
              " 'Stop!\\t¡Parad!',\n",
              " 'Stop!\\t¡Para!',\n",
              " 'Stop!\\t¡Pare!',\n",
              " 'Wait!\\t¡Espera!']"
            ]
          },
          "metadata": {},
          "execution_count": 5
        }
      ]
    },
    {
      "cell_type": "code",
      "source": [
        "with open(\"/content/spa-eng/spa.txt\") as f:\n",
        "  lines = f.readlines()\n",
        "\n",
        "print(lines[:5])"
      ],
      "metadata": {
        "colab": {
          "base_uri": "https://localhost:8080/"
        },
        "id": "a_Ft42iJnl4C",
        "outputId": "6bb3b3b2-f078-4d54-8f4f-ce784b7e5b32"
      },
      "execution_count": 6,
      "outputs": [
        {
          "output_type": "stream",
          "name": "stdout",
          "text": [
            "['Go.\\tVe.\\n', 'Go.\\tVete.\\n', 'Go.\\tVaya.\\n', 'Go.\\tVáyase.\\n', 'Hi.\\tHola.\\n']\n"
          ]
        }
      ]
    },
    {
      "cell_type": "code",
      "source": [
        "pairs = []\n",
        "for line in lines:\n",
        "  eng, spa = line.replace(\"\\n\", \"\").strip().split(\"\\t\")\n",
        "  spa = \"[start] \" + spa + \" [end]\"\n",
        "  pairs.append([eng, spa])"
      ],
      "metadata": {
        "id": "HmJYoEPdog1n"
      },
      "execution_count": 7,
      "outputs": []
    },
    {
      "cell_type": "code",
      "source": [
        "for i in range(5):\n",
        "  indx = np.random.randint(0, len(pairs), 1)[0]\n",
        "  print(pairs[indx])"
      ],
      "metadata": {
        "colab": {
          "base_uri": "https://localhost:8080/"
        },
        "id": "9TpgxaQ4pqN7",
        "outputId": "cdcdcfc0-e807-4195-8ab6-fd3fca45eff2"
      },
      "execution_count": 8,
      "outputs": [
        {
          "output_type": "stream",
          "name": "stdout",
          "text": [
            "['Tom picked up the menu and looked at it.', '[start] Tom cogió el menú y lo observó. [end]']\n",
            "[\"I've heard that you shouldn't eat red meat more than once a day.\", '[start] He oído que no deberías comer carne roja más de una vez al día. [end]']\n",
            "['He knows many amusing magic tricks.', '[start] Él se sabe muchos trucos de magia divertidos. [end]']\n",
            "['I hate that idea.', '[start] No me gusta esa idea. [end]']\n",
            "['She has plenty of work to do.', '[start] Ella tiene mucho trabajo que hacer. [end]']\n"
          ]
        }
      ]
    },
    {
      "cell_type": "code",
      "source": [
        "random_index = np.random.permutation(len(pairs))\n",
        "pairs = np.array(pairs)\n",
        "pairs = pairs[random_index]\n",
        "\n",
        "train_size = int(0.9 * len(pairs))\n",
        "val_size = int(0.05 * len(pairs))\n",
        "train_pairs = pairs[:train_size]\n",
        "test_pairs = pairs[train_size: train_size + val_size]\n",
        "val_pairs = pairs[train_size + val_size :]\n",
        "\n",
        "print(f'Total Pairs : {len(pairs)}')\n",
        "print(f'Train Pairs : {len(train_pairs)}')\n",
        "print(f'Test Pairs : {len(test_pairs)}')\n",
        "print(f'Val Pairs : {len(val_pairs)}')"
      ],
      "metadata": {
        "colab": {
          "base_uri": "https://localhost:8080/"
        },
        "id": "RMghpjmxqG9H",
        "outputId": "40fa2f3f-57a4-4d06-c866-3e8fbd6974a2"
      },
      "execution_count": 9,
      "outputs": [
        {
          "output_type": "stream",
          "name": "stdout",
          "text": [
            "Total Pairs : 118964\n",
            "Train Pairs : 107067\n",
            "Test Pairs : 5948\n",
            "Val Pairs : 5949\n"
          ]
        }
      ]
    },
    {
      "cell_type": "markdown",
      "source": [
        "###Vectorizing the text data"
      ],
      "metadata": {
        "id": "NHYxttixsqAN"
      }
    },
    {
      "cell_type": "code",
      "source": [
        "strip_chars = string.punctuation + \"¿\"\n",
        "strip_chars = strip_chars.replace(\"[\", \"\")\n",
        "strip_chars = strip_chars.replace(\"]\", \"\")\n",
        "\n",
        "vocab_size = 15000\n",
        "seq_len = 20\n",
        "batch_size = 64\n",
        "\n",
        "def custom_standardization(input_string):\n",
        "  lowercase =  tf.strings.lower(input_string)\n",
        "  return tf.strings.regex_replace(lowercase, f\"[{re.escape(strip_chars)}]\", \"\")\n",
        "\n",
        "eng_vect = layers.TextVectorization(\n",
        "    max_tokens = vocab_size,\n",
        "    output_sequence_length = seq_len\n",
        ")\n",
        "\n",
        "spa_vect = layers.TextVectorization(\n",
        "    max_tokens = vocab_size,\n",
        "    output_sequence_length = seq_len+1,\n",
        "    standardize=custom_standardization\n",
        ")\n",
        "\n",
        "train_eng_texts = [pair[0] for pair in train_pairs]\n",
        "train_spa_texts = [pair[1] for pair in train_pairs]\n",
        "\n",
        "eng_vect.adapt(train_eng_texts)\n",
        "spa_vect.adapt(train_spa_texts)"
      ],
      "metadata": {
        "id": "Oy48e2eBscKL"
      },
      "execution_count": 10,
      "outputs": []
    },
    {
      "cell_type": "markdown",
      "source": [
        "###Create Dataset"
      ],
      "metadata": {
        "id": "tAauXwFHyTUx"
      }
    },
    {
      "cell_type": "code",
      "source": [
        "def format_dataset(eng, spa):\n",
        "  eng = eng_vect(eng)\n",
        "  spa = spa_vect(spa)\n",
        "\n",
        "  return (\n",
        "      {\n",
        "          \"encoder_inputs\": eng,\n",
        "          \"decoder_inputs\": spa[:, :-1]\n",
        "      },\n",
        "      spa[:, 1:]\n",
        "  )\n",
        "\n",
        "\n",
        "def make_ds(pairs):\n",
        "  eng_texts, spa_texts = zip(*pairs)\n",
        "  eng_texts = list(eng_texts)\n",
        "  spa_texts = list(spa_texts)\n",
        "\n",
        "  ds = tf.data.Dataset.from_tensor_slices((eng_texts, spa_texts))\n",
        "  ds = ds.batch(batch_size)\n",
        "  ds = ds.map(format_dataset)\n",
        "  return ds.cache().shuffle(2048).prefetch(16)\n",
        "\n",
        "\n",
        "train_ds = make_ds(train_pairs)\n",
        "val_ds = make_ds(val_pairs)"
      ],
      "metadata": {
        "id": "rDz0TW49xw3v"
      },
      "execution_count": 11,
      "outputs": []
    },
    {
      "cell_type": "code",
      "source": [
        "for inputs, targets in train_ds.take(1):\n",
        "  print(inputs['encoder_inputs'].shape)\n",
        "  print(inputs['decoder_inputs'].shape)\n",
        "  print(targets.shape)"
      ],
      "metadata": {
        "colab": {
          "base_uri": "https://localhost:8080/"
        },
        "id": "nqe_U2Uc0jOx",
        "outputId": "ae8d8092-f56c-4973-db9e-394928b06bd9"
      },
      "execution_count": 12,
      "outputs": [
        {
          "output_type": "stream",
          "name": "stdout",
          "text": [
            "(64, 20)\n",
            "(64, 20)\n",
            "(64, 20)\n"
          ]
        }
      ]
    },
    {
      "cell_type": "markdown",
      "source": [
        "##Building the model"
      ],
      "metadata": {
        "id": "WGPx6BuW1Snt"
      }
    },
    {
      "cell_type": "code",
      "source": [
        "class Encoder(layers.Layer):\n",
        "  def __init__(self, embed_dim, dense_dim, num_heads, **kwargs):\n",
        "    super().__init__(**kwargs)\n",
        "    self.embed_dim = embed_dim\n",
        "    self.dense_dim = dense_dim\n",
        "    self.num_heads = num_heads\n",
        "\n",
        "    self.attention = layers.MultiHeadAttention(\n",
        "        num_heads = num_heads, key_dim=embed_dim\n",
        "    )\n",
        "\n",
        "    self.dense_proj = keras.Sequential([\n",
        "        layers.Dense(dense_dim, activation='relu'),\n",
        "        layers.Dense(embed_dim)\n",
        "    ])\n",
        "\n",
        "\n",
        "    self.layernorm_1 = layers.LayerNormalization()\n",
        "    self.layernorm_2 = layers.LayerNormalization()\n",
        "    self.supports_masking = True\n",
        "\n",
        "  def call(self, inputs, mask=None):\n",
        "    if mask is not None:\n",
        "      padding_mask = ops.cast(mask[:, None, :], dtype='int32')\n",
        "    else:\n",
        "      padding_mask = None\n",
        "\n",
        "    attention_output = self.attention(inputs, inputs, attention_mask = padding_mask)\n",
        "    proj_input = self.layernorm_1(inputs + attention_output)\n",
        "    proj_output = self.dense_proj(proj_input)\n",
        "    return self.layernorm_2(proj_input + proj_output)\n",
        "\n",
        "  def get_config(self):\n",
        "    config = self.get_config()\n",
        "    config.update({\n",
        "        \"embed_dim\": self.embed_dim,\n",
        "        \"dense_dim\": self.dense_dim,\n",
        "        \"num_heads\": self.num_heads\n",
        "    })\n",
        "\n",
        "    return config"
      ],
      "metadata": {
        "id": "ZtLd6Bza1O00"
      },
      "execution_count": 13,
      "outputs": []
    },
    {
      "cell_type": "code",
      "source": [
        "class PositionalEmbedding(layers.Layer):\n",
        "  def __init__(self, seq_len, vocab_size, embed_dim, **kwargs):\n",
        "    super().__init__(**kwargs)\n",
        "    self.token_embed = layers.Embedding(\n",
        "        input_dim = vocab_size,\n",
        "        output_dim = embed_dim\n",
        "    )\n",
        "\n",
        "    self.pos_embed = layers.Embedding(\n",
        "        input_dim = vocab_size,\n",
        "        output_dim = embed_dim\n",
        "    )\n",
        "\n",
        "\n",
        "  def call(self, inputs):\n",
        "    length = ops.shape(inputs)[-1]\n",
        "\n",
        "    positions = ops.arange(0,length, 1)\n",
        "    embed_token = self.token_embed(inputs)\n",
        "    embed_pos = self.pos_embed(positions)\n",
        "    return embed_token + embed_pos\n",
        "\n",
        "  def compute_mask(self, inputs, mask=None):\n",
        "    if mask is None:\n",
        "      return None\n",
        "    else:\n",
        "      return ops.not_equal(inputs, 0)\n",
        "\n",
        "  def get_config(self):\n",
        "    config = super().get_config()\n",
        "    config.update({\n",
        "        \"seq_length\": self.seq_len,\n",
        "        \"vocab_size\": self.vocab_size,\n",
        "        \"embed_dim\": self.embed_dim\n",
        "    })\n",
        "\n",
        "    return config"
      ],
      "metadata": {
        "id": "LZW_rl9z09QA"
      },
      "execution_count": 14,
      "outputs": []
    },
    {
      "cell_type": "code",
      "source": [
        "class Decoder(layers.Layer):\n",
        "  def __init__(self, embed_dim, latent_dim, num_heads, **kwargs):\n",
        "    super().__init__(**kwargs)\n",
        "    self.embed_dim = embed_dim\n",
        "    self.latent_dim = latent_dim\n",
        "    self.num_heads = num_heads\n",
        "\n",
        "    self.attention_1 = layers.MultiHeadAttention(\n",
        "        num_heads = num_heads,\n",
        "        key_dim = embed_dim\n",
        "    )\n",
        "\n",
        "    self.attention_2 = layers.MultiHeadAttention(\n",
        "        num_heads = num_heads,\n",
        "        key_dim = embed_dim\n",
        "    )\n",
        "\n",
        "    self.dense_proj = keras.Sequential([\n",
        "        layers.Dense(latent_dim, activation='relu'),\n",
        "        layers.Dense(embed_dim)\n",
        "    ])\n",
        "\n",
        "    self.layernorm_1 = layers.LayerNormalization()\n",
        "    self.layernorm_2 = layers.LayerNormalization()\n",
        "    self.layernorm_3 = layers.LayerNormalization()\n",
        "\n",
        "    self.suports_masking = True\n",
        "\n",
        "  def call(self, inputs, encoder_outputs, mask =None):\n",
        "    causal_mask = self.get_causal_attention_mask(inputs)\n",
        "\n",
        "    if mask is not None:\n",
        "      padding_mask = ops.cat(mask[:,None, :], dtype='int32')\n",
        "      padding_mask = ops.minimum(padding_mask, causal_mask)\n",
        "    else:\n",
        "      padding_mask = None\n",
        "\n",
        "    attention_output_1 = self.attention_1(\n",
        "        query=inputs, key=inputs, value=inputs, attention_mask = causal_mask\n",
        "    )\n",
        "\n",
        "    out_1 = self.layernorm_1(inputs + attention_output_1)\n",
        "\n",
        "    attention_output_2 = self.attention_2(\n",
        "        query=out_1,\n",
        "        key=encoder_outputs,\n",
        "        value=encoder_outputs,\n",
        "        attention_mask = padding_mask\n",
        "    )\n",
        "    out_2 = self.layernorm_2(out_1 + attention_output_2)\n",
        "    proj_output = self.dense_proj(out_2)\n",
        "    return self.layernorm_3(out_2 + proj_output)\n",
        "\n",
        "  def get_causal_attention_mask(self, inputs):\n",
        "    input_shape = ops.shape(inputs)\n",
        "    batch_size, seq_len = input_shape[0], input_shape[1]\n",
        "\n",
        "    i = ops.arange(seq_len)[:,None]\n",
        "    j = ops.arange(seq_len)\n",
        "    mask = ops.cast(i>=j, dtype='int32')\n",
        "    mask = ops.reshape(mask, (1, input_shape[1], input_shape[1]))\n",
        "    mult = ops.concatenate([\n",
        "          ops.expand_dims(batch_size, -1), ops.convert_to_tensor([1,1])\n",
        "    ], axis=0)\n",
        "\n",
        "    return ops.tile(mask, mult)\n",
        "\n",
        "  def get_config(self):\n",
        "    config = super().get_config()\n",
        "    config.update({\n",
        "        \"embed_dim\": self.embed_dim,\n",
        "        \"latent_dim\": self.latent_dim,\n",
        "        \"num_heads\": self.num_heads\n",
        "    })\n",
        "\n",
        "    return config\n"
      ],
      "metadata": {
        "id": "uX5Zy8uVBUGQ"
      },
      "execution_count": 15,
      "outputs": []
    },
    {
      "cell_type": "code",
      "source": [
        "embed_dim = 256\n",
        "latent_dim = 2048\n",
        "num_heads = 8\n",
        "\n",
        "\n",
        "encoder_inputs = keras.Input(shape=(None,) , dtype='int64', name='encoder_inputs')\n",
        "x = PositionalEmbedding(seq_len, vocab_size, embed_dim)(encoder_inputs)\n",
        "encoder_outputs = Encoder(embed_dim, latent_dim, num_heads)(x)\n",
        "encoder = keras.Model(encoder_inputs, encoder_outputs)\n",
        "\n",
        "decoder_inputs = keras.Input(shape=(None,), dtype='int64', name='decoder_inputs')\n",
        "encoder_seq_inputs = keras.Input(shape=(None,embed_dim), name='decoder_state_inputs')\n",
        "x = PositionalEmbedding(seq_len, vocab_size, embed_dim)(decoder_inputs)\n",
        "x = Decoder(embed_dim, latent_dim, num_heads)(x, encoder_seq_inputs)\n",
        "x = layers.Dropout(0.5)(x)\n",
        "decoder_outputs = layers.Dense(vocab_size, activation='softmax')(x)\n",
        "decoder = keras.Model([decoder_inputs, encoder_seq_inputs], decoder_outputs)\n",
        "\n",
        "decoder_outputs = decoder([decoder_inputs, encoder_outputs])\n",
        "transformer = keras.Model(\n",
        "    [encoder_inputs, decoder_inputs],\n",
        "    decoder_outputs,\n",
        "    name='transformer'\n",
        ")"
      ],
      "metadata": {
        "id": "xMQ8yLIvER-C"
      },
      "execution_count": 16,
      "outputs": []
    },
    {
      "cell_type": "code",
      "source": [
        "transformer.summary()"
      ],
      "metadata": {
        "colab": {
          "base_uri": "https://localhost:8080/",
          "height": 374
        },
        "id": "a1_fd0wWLHiF",
        "outputId": "cc4a8c11-26d8-4eae-f083-b3172bd343f0"
      },
      "execution_count": 17,
      "outputs": [
        {
          "output_type": "display_data",
          "data": {
            "text/plain": [
              "\u001b[1mModel: \"transformer\"\u001b[0m\n"
            ],
            "text/html": [
              "<pre style=\"white-space:pre;overflow-x:auto;line-height:normal;font-family:Menlo,'DejaVu Sans Mono',consolas,'Courier New',monospace\"><span style=\"font-weight: bold\">Model: \"transformer\"</span>\n",
              "</pre>\n"
            ]
          },
          "metadata": {}
        },
        {
          "output_type": "display_data",
          "data": {
            "text/plain": [
              "┏━━━━━━━━━━━━━━━━━━━━━━━━━━━┳━━━━━━━━━━━━━━━━━━━━━━━━┳━━━━━━━━━━━━━━━━┳━━━━━━━━━━━━━━━━━━━━━━━━┓\n",
              "┃\u001b[1m \u001b[0m\u001b[1mLayer (type)             \u001b[0m\u001b[1m \u001b[0m┃\u001b[1m \u001b[0m\u001b[1mOutput Shape          \u001b[0m\u001b[1m \u001b[0m┃\u001b[1m \u001b[0m\u001b[1m       Param #\u001b[0m\u001b[1m \u001b[0m┃\u001b[1m \u001b[0m\u001b[1mConnected to          \u001b[0m\u001b[1m \u001b[0m┃\n",
              "┡━━━━━━━━━━━━━━━━━━━━━━━━━━━╇━━━━━━━━━━━━━━━━━━━━━━━━╇━━━━━━━━━━━━━━━━╇━━━━━━━━━━━━━━━━━━━━━━━━┩\n",
              "│ encoder_inputs            │ (\u001b[38;5;45mNone\u001b[0m, \u001b[38;5;45mNone\u001b[0m)           │              \u001b[38;5;34m0\u001b[0m │ -                      │\n",
              "│ (\u001b[38;5;33mInputLayer\u001b[0m)              │                        │                │                        │\n",
              "├───────────────────────────┼────────────────────────┼────────────────┼────────────────────────┤\n",
              "│ positional_embedding      │ (\u001b[38;5;45mNone\u001b[0m, \u001b[38;5;45mNone\u001b[0m, \u001b[38;5;34m256\u001b[0m)      │      \u001b[38;5;34m7,680,000\u001b[0m │ encoder_inputs[\u001b[38;5;34m0\u001b[0m][\u001b[38;5;34m0\u001b[0m]   │\n",
              "│ (\u001b[38;5;33mPositionalEmbedding\u001b[0m)     │                        │                │                        │\n",
              "├───────────────────────────┼────────────────────────┼────────────────┼────────────────────────┤\n",
              "│ decoder_inputs            │ (\u001b[38;5;45mNone\u001b[0m, \u001b[38;5;45mNone\u001b[0m)           │              \u001b[38;5;34m0\u001b[0m │ -                      │\n",
              "│ (\u001b[38;5;33mInputLayer\u001b[0m)              │                        │                │                        │\n",
              "├───────────────────────────┼────────────────────────┼────────────────┼────────────────────────┤\n",
              "│ encoder (\u001b[38;5;33mEncoder\u001b[0m)         │ (\u001b[38;5;45mNone\u001b[0m, \u001b[38;5;45mNone\u001b[0m, \u001b[38;5;34m256\u001b[0m)      │      \u001b[38;5;34m3,155,456\u001b[0m │ positional_embedding[\u001b[38;5;34m…\u001b[0m │\n",
              "├───────────────────────────┼────────────────────────┼────────────────┼────────────────────────┤\n",
              "│ functional_3 (\u001b[38;5;33mFunctional\u001b[0m) │ (\u001b[38;5;45mNone\u001b[0m, \u001b[38;5;45mNone\u001b[0m, \u001b[38;5;34m15000\u001b[0m)    │     \u001b[38;5;34m16,794,520\u001b[0m │ decoder_inputs[\u001b[38;5;34m0\u001b[0m][\u001b[38;5;34m0\u001b[0m],  │\n",
              "│                           │                        │                │ encoder[\u001b[38;5;34m0\u001b[0m][\u001b[38;5;34m0\u001b[0m]          │\n",
              "└───────────────────────────┴────────────────────────┴────────────────┴────────────────────────┘\n"
            ],
            "text/html": [
              "<pre style=\"white-space:pre;overflow-x:auto;line-height:normal;font-family:Menlo,'DejaVu Sans Mono',consolas,'Courier New',monospace\">┏━━━━━━━━━━━━━━━━━━━━━━━━━━━┳━━━━━━━━━━━━━━━━━━━━━━━━┳━━━━━━━━━━━━━━━━┳━━━━━━━━━━━━━━━━━━━━━━━━┓\n",
              "┃<span style=\"font-weight: bold\"> Layer (type)              </span>┃<span style=\"font-weight: bold\"> Output Shape           </span>┃<span style=\"font-weight: bold\">        Param # </span>┃<span style=\"font-weight: bold\"> Connected to           </span>┃\n",
              "┡━━━━━━━━━━━━━━━━━━━━━━━━━━━╇━━━━━━━━━━━━━━━━━━━━━━━━╇━━━━━━━━━━━━━━━━╇━━━━━━━━━━━━━━━━━━━━━━━━┩\n",
              "│ encoder_inputs            │ (<span style=\"color: #00d7ff; text-decoration-color: #00d7ff\">None</span>, <span style=\"color: #00d7ff; text-decoration-color: #00d7ff\">None</span>)           │              <span style=\"color: #00af00; text-decoration-color: #00af00\">0</span> │ -                      │\n",
              "│ (<span style=\"color: #0087ff; text-decoration-color: #0087ff\">InputLayer</span>)              │                        │                │                        │\n",
              "├───────────────────────────┼────────────────────────┼────────────────┼────────────────────────┤\n",
              "│ positional_embedding      │ (<span style=\"color: #00d7ff; text-decoration-color: #00d7ff\">None</span>, <span style=\"color: #00d7ff; text-decoration-color: #00d7ff\">None</span>, <span style=\"color: #00af00; text-decoration-color: #00af00\">256</span>)      │      <span style=\"color: #00af00; text-decoration-color: #00af00\">7,680,000</span> │ encoder_inputs[<span style=\"color: #00af00; text-decoration-color: #00af00\">0</span>][<span style=\"color: #00af00; text-decoration-color: #00af00\">0</span>]   │\n",
              "│ (<span style=\"color: #0087ff; text-decoration-color: #0087ff\">PositionalEmbedding</span>)     │                        │                │                        │\n",
              "├───────────────────────────┼────────────────────────┼────────────────┼────────────────────────┤\n",
              "│ decoder_inputs            │ (<span style=\"color: #00d7ff; text-decoration-color: #00d7ff\">None</span>, <span style=\"color: #00d7ff; text-decoration-color: #00d7ff\">None</span>)           │              <span style=\"color: #00af00; text-decoration-color: #00af00\">0</span> │ -                      │\n",
              "│ (<span style=\"color: #0087ff; text-decoration-color: #0087ff\">InputLayer</span>)              │                        │                │                        │\n",
              "├───────────────────────────┼────────────────────────┼────────────────┼────────────────────────┤\n",
              "│ encoder (<span style=\"color: #0087ff; text-decoration-color: #0087ff\">Encoder</span>)         │ (<span style=\"color: #00d7ff; text-decoration-color: #00d7ff\">None</span>, <span style=\"color: #00d7ff; text-decoration-color: #00d7ff\">None</span>, <span style=\"color: #00af00; text-decoration-color: #00af00\">256</span>)      │      <span style=\"color: #00af00; text-decoration-color: #00af00\">3,155,456</span> │ positional_embedding[<span style=\"color: #00af00; text-decoration-color: #00af00\">…</span> │\n",
              "├───────────────────────────┼────────────────────────┼────────────────┼────────────────────────┤\n",
              "│ functional_3 (<span style=\"color: #0087ff; text-decoration-color: #0087ff\">Functional</span>) │ (<span style=\"color: #00d7ff; text-decoration-color: #00d7ff\">None</span>, <span style=\"color: #00d7ff; text-decoration-color: #00d7ff\">None</span>, <span style=\"color: #00af00; text-decoration-color: #00af00\">15000</span>)    │     <span style=\"color: #00af00; text-decoration-color: #00af00\">16,794,520</span> │ decoder_inputs[<span style=\"color: #00af00; text-decoration-color: #00af00\">0</span>][<span style=\"color: #00af00; text-decoration-color: #00af00\">0</span>],  │\n",
              "│                           │                        │                │ encoder[<span style=\"color: #00af00; text-decoration-color: #00af00\">0</span>][<span style=\"color: #00af00; text-decoration-color: #00af00\">0</span>]          │\n",
              "└───────────────────────────┴────────────────────────┴────────────────┴────────────────────────┘\n",
              "</pre>\n"
            ]
          },
          "metadata": {}
        },
        {
          "output_type": "display_data",
          "data": {
            "text/plain": [
              "\u001b[1m Total params: \u001b[0m\u001b[38;5;34m27,629,976\u001b[0m (105.40 MB)\n"
            ],
            "text/html": [
              "<pre style=\"white-space:pre;overflow-x:auto;line-height:normal;font-family:Menlo,'DejaVu Sans Mono',consolas,'Courier New',monospace\"><span style=\"font-weight: bold\"> Total params: </span><span style=\"color: #00af00; text-decoration-color: #00af00\">27,629,976</span> (105.40 MB)\n",
              "</pre>\n"
            ]
          },
          "metadata": {}
        },
        {
          "output_type": "display_data",
          "data": {
            "text/plain": [
              "\u001b[1m Trainable params: \u001b[0m\u001b[38;5;34m27,629,976\u001b[0m (105.40 MB)\n"
            ],
            "text/html": [
              "<pre style=\"white-space:pre;overflow-x:auto;line-height:normal;font-family:Menlo,'DejaVu Sans Mono',consolas,'Courier New',monospace\"><span style=\"font-weight: bold\"> Trainable params: </span><span style=\"color: #00af00; text-decoration-color: #00af00\">27,629,976</span> (105.40 MB)\n",
              "</pre>\n"
            ]
          },
          "metadata": {}
        },
        {
          "output_type": "display_data",
          "data": {
            "text/plain": [
              "\u001b[1m Non-trainable params: \u001b[0m\u001b[38;5;34m0\u001b[0m (0.00 B)\n"
            ],
            "text/html": [
              "<pre style=\"white-space:pre;overflow-x:auto;line-height:normal;font-family:Menlo,'DejaVu Sans Mono',consolas,'Courier New',monospace\"><span style=\"font-weight: bold\"> Non-trainable params: </span><span style=\"color: #00af00; text-decoration-color: #00af00\">0</span> (0.00 B)\n",
              "</pre>\n"
            ]
          },
          "metadata": {}
        }
      ]
    },
    {
      "cell_type": "code",
      "source": [
        "epochs = 10\n",
        "transformer.compile(\n",
        "    optimizer = keras.optimizers.RMSprop(),\n",
        "    loss=keras.losses.SparseCategoricalCrossentropy(),\n",
        "    metrics=['accuracy']\n",
        ")\n",
        "\n",
        "transformer.fit(train_ds, epochs=epochs, validation_data = val_ds)"
      ],
      "metadata": {
        "colab": {
          "base_uri": "https://localhost:8080/"
        },
        "id": "-YKb1G6HLsmx",
        "outputId": "5b14c76d-e6c3-4607-ca74-cfa224a16cd6"
      },
      "execution_count": 18,
      "outputs": [
        {
          "output_type": "stream",
          "name": "stdout",
          "text": [
            "Epoch 1/10\n",
            "\u001b[1m1673/1673\u001b[0m \u001b[32m━━━━━━━━━━━━━━━━━━━━\u001b[0m\u001b[37m\u001b[0m \u001b[1m116s\u001b[0m 58ms/step - accuracy: 0.7040 - loss: 2.2033 - val_accuracy: 0.7735 - val_loss: 1.4379\n",
            "Epoch 2/10\n",
            "\u001b[1m1673/1673\u001b[0m \u001b[32m━━━━━━━━━━━━━━━━━━━━\u001b[0m\u001b[37m\u001b[0m \u001b[1m113s\u001b[0m 47ms/step - accuracy: 0.7807 - loss: 1.4236 - val_accuracy: 0.9613 - val_loss: 0.3210\n",
            "Epoch 3/10\n",
            "\u001b[1m1673/1673\u001b[0m \u001b[32m━━━━━━━━━━━━━━━━━━━━\u001b[0m\u001b[37m\u001b[0m \u001b[1m79s\u001b[0m 47ms/step - accuracy: 0.9587 - loss: 0.3363 - val_accuracy: 0.9883 - val_loss: 0.1177\n",
            "Epoch 4/10\n",
            "\u001b[1m1673/1673\u001b[0m \u001b[32m━━━━━━━━━━━━━━━━━━━━\u001b[0m\u001b[37m\u001b[0m \u001b[1m83s\u001b[0m 47ms/step - accuracy: 0.9824 - loss: 0.1496 - val_accuracy: 0.9890 - val_loss: 0.1411\n",
            "Epoch 5/10\n",
            "\u001b[1m1673/1673\u001b[0m \u001b[32m━━━━━━━━━━━━━━━━━━━━\u001b[0m\u001b[37m\u001b[0m \u001b[1m79s\u001b[0m 47ms/step - accuracy: 0.9924 - loss: 0.0690 - val_accuracy: 0.9987 - val_loss: 0.0297\n",
            "Epoch 6/10\n",
            "\u001b[1m1673/1673\u001b[0m \u001b[32m━━━━━━━━━━━━━━━━━━━━\u001b[0m\u001b[37m\u001b[0m \u001b[1m79s\u001b[0m 47ms/step - accuracy: 0.9944 - loss: 0.0569 - val_accuracy: 0.9997 - val_loss: 0.0162\n",
            "Epoch 7/10\n",
            "\u001b[1m1673/1673\u001b[0m \u001b[32m━━━━━━━━━━━━━━━━━━━━\u001b[0m\u001b[37m\u001b[0m \u001b[1m78s\u001b[0m 47ms/step - accuracy: 0.9965 - loss: 0.0396 - val_accuracy: 0.9997 - val_loss: 0.0096\n",
            "Epoch 8/10\n",
            "\u001b[1m1673/1673\u001b[0m \u001b[32m━━━━━━━━━━━━━━━━━━━━\u001b[0m\u001b[37m\u001b[0m \u001b[1m79s\u001b[0m 47ms/step - accuracy: 0.9985 - loss: 0.0239 - val_accuracy: 0.9998 - val_loss: 0.0051\n",
            "Epoch 9/10\n",
            "\u001b[1m1673/1673\u001b[0m \u001b[32m━━━━━━━━━━━━━━━━━━━━\u001b[0m\u001b[37m\u001b[0m \u001b[1m82s\u001b[0m 47ms/step - accuracy: 0.9997 - loss: 0.0074 - val_accuracy: 0.9999 - val_loss: 0.0022\n",
            "Epoch 10/10\n",
            "\u001b[1m1673/1673\u001b[0m \u001b[32m━━━━━━━━━━━━━━━━━━━━\u001b[0m\u001b[37m\u001b[0m \u001b[1m78s\u001b[0m 47ms/step - accuracy: 0.9999 - loss: 0.0031 - val_accuracy: 0.9999 - val_loss: 0.0013\n"
          ]
        },
        {
          "output_type": "execute_result",
          "data": {
            "text/plain": [
              "<keras.src.callbacks.history.History at 0x7d8df11cf9a0>"
            ]
          },
          "metadata": {},
          "execution_count": 18
        }
      ]
    },
    {
      "cell_type": "code",
      "source": [
        "spa_vocab = spa_vect.get_vocabulary()\n",
        "spa_index_lookup = dict(zip(range(len(spa_vocab)), spa_vocab))\n",
        "max_decoded_sentence_length = 20\n",
        "\n",
        "def decode_sequence(input_sentence):\n",
        "  tokenized_input_sentence = eng_vect([input_sentence])\n",
        "  decoded_sentence = \"[start]\"\n",
        "\n",
        "  for i in range(max_decoded_sentence_length):\n",
        "    tokenized_target_sentence = spa_vect([decoded_sentence])[:,:-1]\n",
        "    preds = transformer([tokenized_input_sentence, tokenized_target_sentence])\n",
        "\n",
        "    sample_token_index = ops.convert_to_numpy(\n",
        "        ops.argmax(preds[0,i,:])\n",
        "    ).item(0)\n",
        "    sampled_token = spa_index_lookup[sample_token_index]\n",
        "    decoded_sentence += \" \" + sampled_token\n",
        "\n",
        "    if sampled_token == \"[end]\":\n",
        "      break\n",
        "\n",
        "  return decoded_sentence"
      ],
      "metadata": {
        "id": "5DrNuWe7L-2Z"
      },
      "execution_count": 21,
      "outputs": []
    },
    {
      "cell_type": "code",
      "source": [
        "test_eng_texts = [pair[0] for pair in test_pairs]\n",
        "test_spa_texts = [pair[1] for pair in test_pairs]\n",
        "\n",
        "for i in range(10):\n",
        "  input_sentence = test_eng_texts[i]\n",
        "  translated = decode_sequence(input_sentence)\n",
        "\n",
        "  print(f\"\\nEng : {input_sentence}\")\n",
        "  print(f\"Spa Original : {test_spa_texts[i]}\")\n",
        "  print(f\"Spa Predicted : {translated}\")"
      ],
      "metadata": {
        "colab": {
          "base_uri": "https://localhost:8080/"
        },
        "id": "r13jYNOiMAFw",
        "outputId": "54fc78ae-d3d8-4560-a6fa-e4624d50df42"
      },
      "execution_count": 22,
      "outputs": [
        {
          "output_type": "stream",
          "name": "stdout",
          "text": [
            "\n",
            "Eng : When did you start studying Latin?\n",
            "Spa Original : [start] ¿Cuándo empezaste a estudiar latín? [end]\n",
            "Spa Predicted : [start] casa que debo tienda almorzando               \n",
            "\n",
            "Eng : Suddenly, the door opened and her father entered.\n",
            "Spa Original : [start] De repente se abrió la puerta y entró su padre. [end]\n",
            "Spa Predicted : [start] comer auto aconsejó yo esta comer anciano             \n",
            "\n",
            "Eng : Form a straight line!\n",
            "Spa Original : [start] ¡Formen una línea recta! [end]\n",
            "Spa Predicted : [start] no tomé correo                 \n",
            "\n",
            "Eng : I've been to the mall.\n",
            "Spa Original : [start] He estado en el centro comercial. [end]\n",
            "Spa Predicted : [start] trabajo de  amamos                \n",
            "\n",
            "Eng : Your mother is anxious about your health.\n",
            "Spa Original : [start] Tu madre está preocupada por tu salud. [end]\n",
            "Spa Predicted : [start] hacerlo tom vendré todo te aire              \n",
            "\n",
            "Eng : I don't want to walk home.\n",
            "Spa Original : [start] No quiero caminar a casa. [end]\n",
            "Spa Predicted : [start] está las de gato voy               \n",
            "\n",
            "Eng : I have to let you go.\n",
            "Spa Original : [start] Tengo que dejarte ir. [end]\n",
            "Spa Predicted : [start] una de días que tiene               \n",
            "\n",
            "Eng : I outrank you.\n",
            "Spa Original : [start] Yo estoy más adelante que tú. [end]\n",
            "Spa Predicted : [start] sorprenderme que                  \n",
            "\n",
            "Eng : What does the doctor want me to eat?\n",
            "Spa Original : [start] ¿Qué quiere el doctor que yo coma? [end]\n",
            "Spa Predicted : [start] maría hizo llegar las por de hizo             \n",
            "\n",
            "Eng : I am squeezing an orange.\n",
            "Spa Original : [start] Estoy exprimiendo una naranja. [end]\n",
            "Spa Predicted : [start] quién [UNK] nada vecinos                \n"
          ]
        }
      ]
    },
    {
      "cell_type": "code",
      "source": [],
      "metadata": {
        "id": "DjdJrJ2XPwop"
      },
      "execution_count": 20,
      "outputs": []
    }
  ]
}