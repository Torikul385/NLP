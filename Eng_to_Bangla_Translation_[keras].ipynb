{
  "nbformat": 4,
  "nbformat_minor": 0,
  "metadata": {
    "colab": {
      "provenance": [],
      "gpuType": "T4",
      "authorship_tag": "ABX9TyOAnJDshoEN27FgkWZqnU9v",
      "include_colab_link": true
    },
    "kernelspec": {
      "name": "python3",
      "display_name": "Python 3"
    },
    "language_info": {
      "name": "python"
    },
    "accelerator": "GPU"
  },
  "cells": [
    {
      "cell_type": "markdown",
      "metadata": {
        "id": "view-in-github",
        "colab_type": "text"
      },
      "source": [
        "<a href=\"https://colab.research.google.com/github/Torikul385/NLP/blob/main/Eng_to_Bangla_Translation_%5Bkeras%5D.ipynb\" target=\"_parent\"><img src=\"https://colab.research.google.com/assets/colab-badge.svg\" alt=\"Open In Colab\"/></a>"
      ]
    },
    {
      "cell_type": "code",
      "execution_count": 1,
      "metadata": {
        "colab": {
          "base_uri": "https://localhost:8080/"
        },
        "id": "5knzb4PGV7Lf",
        "outputId": "d8318bb3-eed7-4b26-c57d-1eb6a0f97cf2"
      },
      "outputs": [
        {
          "output_type": "execute_result",
          "data": {
            "text/plain": [
              "['\\x1b[?25l   \\x1b[90m━━━━━━━━━━━━━━━━━━━━━━━━━━━━━━━━━━━━━━━━\\x1b[0m \\x1b[32m0.0/1.1 MB\\x1b[0m \\x1b[31m?\\x1b[0m eta \\x1b[36m-:--:--\\x1b[0m',\n",
              " '\\x1b[2K   \\x1b[91m━━━━━━━━━━━━━━━━━━━━━━\\x1b[0m\\x1b[91m╸\\x1b[0m\\x1b[90m━━━━━━━━━━━━━━━━━\\x1b[0m \\x1b[32m0.6/1.1 MB\\x1b[0m \\x1b[31m22.9 MB/s\\x1b[0m eta \\x1b[36m0:00:01\\x1b[0m',\n",
              " '\\x1b[2K   \\x1b[91m━━━━━━━━━━━━━━━━━━━━━━━━━━━━━━━━━━━━━━━\\x1b[0m\\x1b[91m╸\\x1b[0m \\x1b[32m1.1/1.1 MB\\x1b[0m \\x1b[31m26.1 MB/s\\x1b[0m eta \\x1b[36m0:00:01\\x1b[0m',\n",
              " '\\x1b[2K   \\x1b[90m━━━━━━━━━━━━━━━━━━━━━━━━━━━━━━━━━━━━━━━━\\x1b[0m \\x1b[32m1.1/1.1 MB\\x1b[0m \\x1b[31m13.3 MB/s\\x1b[0m eta \\x1b[36m0:00:00\\x1b[0m',\n",
              " '\\x1b[?25h']"
            ]
          },
          "metadata": {},
          "execution_count": 1
        }
      ],
      "source": [
        "!!pip install -q --upgrade tensorflow\n",
        "!!pip install -q --upgrade keras"
      ]
    },
    {
      "cell_type": "code",
      "source": [
        "import os\n",
        "import numpy as np\n",
        "import matplotlib.pyplot as plt\n",
        "import string\n",
        "import re\n",
        "\n",
        "import keras\n",
        "from keras import layers, ops\n",
        "\n",
        "import tensorflow as tf"
      ],
      "metadata": {
        "id": "Fm_fBmN7psk-"
      },
      "execution_count": 2,
      "outputs": []
    },
    {
      "cell_type": "code",
      "source": [
        "!!wget -q http://www.manythings.org/anki/ben-eng.zip"
      ],
      "metadata": {
        "colab": {
          "base_uri": "https://localhost:8080/"
        },
        "id": "klHT0aWfWYQL",
        "outputId": "05dd9e9f-d0e1-40dd-f93e-095b495c826a"
      },
      "execution_count": 3,
      "outputs": [
        {
          "output_type": "execute_result",
          "data": {
            "text/plain": [
              "[]"
            ]
          },
          "metadata": {},
          "execution_count": 3
        }
      ]
    },
    {
      "cell_type": "code",
      "source": [
        "!!unzip -q ben-eng.zip"
      ],
      "metadata": {
        "colab": {
          "base_uri": "https://localhost:8080/"
        },
        "id": "Xi5ff3ZkY6ja",
        "outputId": "107f2444-eddb-4ce4-92a9-aadd4fb5e3a0"
      },
      "execution_count": 4,
      "outputs": [
        {
          "output_type": "execute_result",
          "data": {
            "text/plain": [
              "[]"
            ]
          },
          "metadata": {},
          "execution_count": 4
        }
      ]
    },
    {
      "cell_type": "code",
      "source": [
        "!!head -20 ben.txt"
      ],
      "metadata": {
        "colab": {
          "base_uri": "https://localhost:8080/"
        },
        "id": "rr6ZW3hoY_4X",
        "outputId": "2f8f6f0e-345e-4bf6-e038-8f3a30c66edf"
      },
      "execution_count": 5,
      "outputs": [
        {
          "output_type": "execute_result",
          "data": {
            "text/plain": [
              "['Go.\\tযাও।\\tCC-BY 2.0 (France) Attribution: tatoeba.org #2877272 (CM) & #5545004 (tanay)',\n",
              " 'Go.\\tযান।\\tCC-BY 2.0 (France) Attribution: tatoeba.org #2877272 (CM) & #5545005 (tanay)',\n",
              " 'Go.\\tযা।\\tCC-BY 2.0 (France) Attribution: tatoeba.org #2877272 (CM) & #5545006 (tanay)',\n",
              " 'Run!\\tপালাও!\\tCC-BY 2.0 (France) Attribution: tatoeba.org #906328 (papabear) & #5548781 (tanay)',\n",
              " 'Run!\\tপালান!\\tCC-BY 2.0 (France) Attribution: tatoeba.org #906328 (papabear) & #5548783 (tanay)',\n",
              " 'Who?\\tকে?\\tCC-BY 2.0 (France) Attribution: tatoeba.org #2083030 (CK) & #5548787 (tanay)',\n",
              " 'Wow!\\tবাহ!\\tCC-BY 2.0 (France) Attribution: tatoeba.org #52027 (Zifre) & #11026314 (robingaspi)',\n",
              " 'Fire!\\tআগুন!\\tCC-BY 2.0 (France) Attribution: tatoeba.org #1829639 (Spamster) & #3232240 (tanay)',\n",
              " 'Help!\\tবাঁচাও!\\tCC-BY 2.0 (France) Attribution: tatoeba.org #435084 (lukaszpp) & #5548780 (tanay)',\n",
              " 'Help!\\tবাঁচান!\\tCC-BY 2.0 (France) Attribution: tatoeba.org #435084 (lukaszpp) & #5548782 (tanay)',\n",
              " 'Jump.\\tঝাঁপ দাও।\\tCC-BY 2.0 (France) Attribution: tatoeba.org #631038 (Shishir) & #11457736 (robingaspi)',\n",
              " 'Stop!\\tথামুন!\\tCC-BY 2.0 (France) Attribution: tatoeba.org #448320 (CM) & #5545000 (tanay)',\n",
              " 'Stop!\\tথামো!\\tCC-BY 2.0 (France) Attribution: tatoeba.org #448320 (CM) & #5545001 (tanay)',\n",
              " 'Stop!\\tথাম!\\tCC-BY 2.0 (France) Attribution: tatoeba.org #448320 (CM) & #5545002 (tanay)',\n",
              " 'Hello!\\tনমস্কার!\\tCC-BY 2.0 (France) Attribution: tatoeba.org #373330 (CK) & #3042686 (tanay)',\n",
              " 'Hello!\\tহ্যালো!\\tCC-BY 2.0 (France) Attribution: tatoeba.org #373330 (CK) & #11455854 (robingaspi)',\n",
              " 'I see.\\tবুঝলাম।\\tCC-BY 2.0 (France) Attribution: tatoeba.org #2111796 (CK) & #3220326 (tanay)',\n",
              " 'I try.\\tআমি চেষ্টা করি।\\tCC-BY 2.0 (France) Attribution: tatoeba.org #20776 (CK) & #3219704 (tanay)',\n",
              " 'Smile.\\tএকটু হাসুন।\\tCC-BY 2.0 (France) Attribution: tatoeba.org #2764108 (CK) & #3232180 (tanay)',\n",
              " 'Smile.\\tএকটু হাসো।\\tCC-BY 2.0 (France) Attribution: tatoeba.org #2764108 (CK) & #3232182 (tanay)']"
            ]
          },
          "metadata": {},
          "execution_count": 5
        }
      ]
    },
    {
      "cell_type": "markdown",
      "source": [
        "###Process data"
      ],
      "metadata": {
        "id": "xZsLsfMoaQuB"
      }
    },
    {
      "cell_type": "code",
      "source": [
        "pairs = []\n",
        "\n",
        "with open(\"/content/ben.txt\") as f:\n",
        "  lines = f.readlines()\n",
        "\n",
        "for line in lines:\n",
        "   line = line.replace('\\n', \"\").split(\"\\t\")\n",
        "   eng = line[0]\n",
        "   ben = \"[start] \" + line[1] + \" [end]\"\n",
        "\n",
        "   pairs.append([eng, ben])\n"
      ],
      "metadata": {
        "id": "TnUxGFQqZYuQ"
      },
      "execution_count": 6,
      "outputs": []
    },
    {
      "cell_type": "code",
      "source": [
        "pairs = np.array(pairs)\n",
        "\n",
        "indx = np.random.permutation(len(pairs))\n",
        "pairs = pairs[indx]\n",
        "\n",
        "for pair in pairs[:10]:\n",
        "  print(pair[0], pair[1])"
      ],
      "metadata": {
        "id": "aU0qT_W_adQR",
        "colab": {
          "base_uri": "https://localhost:8080/"
        },
        "outputId": "37d205ea-57fc-4a11-cf9c-020fcefaf5a9"
      },
      "execution_count": 7,
      "outputs": [
        {
          "output_type": "stream",
          "name": "stdout",
          "text": [
            "We're at war. [start] আমরা যুদ্ধে আছি। [end]\n",
            "He looks pale. [start] ওকে ফ্যাকাসে দেখাচ্ছে। [end]\n",
            "I don't want to go there again. [start] আমি ওখানে আবার যেতে চাই না। [end]\n",
            "Oil is scarce in this country. [start] এই দেশে তেলের অভাব। [end]\n",
            "Fire! [start] আগুন! [end]\n",
            "He attends the same school that I do. [start] আমি যে স্কুলে যা, সে ঐ স্কুলেই যায়। [end]\n",
            "I'm not sure that I've got it right. [start] আমি নিশ্চিত নই যে আমি এটা ঠিক করেছি। [end]\n",
            "Birds fly. [start] পাখি ওড়ে। [end]\n",
            "Don't move! [start] সরেন না! [end]\n",
            "Babies don't stay babies forever. [start] শিশুরা চিরকাল শিশু থাকে না। [end]\n"
          ]
        }
      ]
    },
    {
      "cell_type": "code",
      "source": [
        "train_size = int(0.9 * len(pairs))\n",
        "val_size = int(0.05 * len(pairs))\n",
        "\n",
        "train_pairs = pairs[:train_size]\n",
        "test_pairs = pairs[train_size: train_size + val_size]\n",
        "val_pairs = pairs[train_size + val_size:]\n",
        "\n",
        "print(f\"Total pairs : {len(pairs)}\")\n",
        "print(f\"Train Pairs : {len(train_pairs)}\")\n",
        "print(f\"Test Pairs : {len(test_pairs)}\")\n",
        "print(f\"Validation Pairs : {len(val_pairs)}\")"
      ],
      "metadata": {
        "colab": {
          "base_uri": "https://localhost:8080/"
        },
        "id": "QMUlkIjtn4qg",
        "outputId": "01a326ab-2fa0-400f-d8ad-3c34f3ecfca7"
      },
      "execution_count": 8,
      "outputs": [
        {
          "output_type": "stream",
          "name": "stdout",
          "text": [
            "Total pairs : 6509\n",
            "Train Pairs : 5858\n",
            "Test Pairs : 325\n",
            "Validation Pairs : 326\n"
          ]
        }
      ]
    },
    {
      "cell_type": "markdown",
      "source": [
        "###Vectorization"
      ],
      "metadata": {
        "id": "OzHqeC7UuPdw"
      }
    },
    {
      "cell_type": "code",
      "source": [
        "strip_chars = string.punctuation + \"।\"\n",
        "strip_chars = strip_chars.replace(\"[\", \"\")\n",
        "strip_chars = strip_chars.replace(\"]\", \"\")\n",
        "\n",
        "def custom_standardization(text):\n",
        "  text = tf.strings.regex_replace(text, f\"[{re.escape(strip_chars)}]\", \"\")\n",
        "  return text\n",
        "\n",
        "vocab_size = 15000\n",
        "seq_len = 20\n",
        "\n",
        "\n",
        "eng_vect = layers.TextVectorization(\n",
        "    max_tokens = vocab_size,\n",
        "    output_sequence_length = seq_len\n",
        ")\n",
        "\n",
        "ben_vect = layers.TextVectorization(\n",
        "    max_tokens = vocab_size,\n",
        "    standardize=custom_standardization,\n",
        "    output_sequence_length = seq_len+1\n",
        ")\n",
        "\n",
        "eng_texts = [pair[0] for pair in train_pairs]\n",
        "ben_texts = [pair[1] for pair in train_pairs]\n",
        "\n",
        "eng_vect.adapt(eng_texts)\n",
        "ben_vect.adapt(ben_texts)"
      ],
      "metadata": {
        "id": "5tV09ka4rtgH"
      },
      "execution_count": 9,
      "outputs": []
    },
    {
      "cell_type": "markdown",
      "source": [
        "###Make dataset"
      ],
      "metadata": {
        "id": "GU-M6gvo1HMy"
      }
    },
    {
      "cell_type": "code",
      "source": [
        "def preprocess_text(eng, ben):\n",
        "  eng = eng_vect(eng)\n",
        "  ben = ben_vect(ben)\n",
        "\n",
        "  return (\n",
        "      {\n",
        "          \"encoder_inputs\": eng,\n",
        "          \"decoder_inputs\": ben[:,:-1]\n",
        "      },\n",
        "      ben[:,1:]\n",
        "  )\n",
        "\n",
        "batch_size = 64\n",
        "def make_dataset(pairs):\n",
        "  eng_texts, ben_texts = zip(*pairs)\n",
        "  eng_texts = list(eng_texts)\n",
        "  ben_texts = list(ben_texts)\n",
        "\n",
        "  ds = tf.data.Dataset.from_tensor_slices((eng_texts, ben_texts))\n",
        "  ds = ds.batch(batch_size).map(preprocess_text)\n",
        "  ds = ds.cache().shuffle(2048).prefetch(16)\n",
        "\n",
        "  return ds\n",
        "\n",
        "train_ds = make_dataset(train_pairs)\n",
        "val_ds = make_dataset(val_pairs)"
      ],
      "metadata": {
        "id": "hdZd9ur-vhWk"
      },
      "execution_count": 10,
      "outputs": []
    },
    {
      "cell_type": "code",
      "source": [
        "for inputs, targets in train_ds.take(1):\n",
        "  print(inputs['encoder_inputs'].shape)\n",
        "  print(inputs['decoder_inputs'].shape)\n",
        "  print(targets.shape)"
      ],
      "metadata": {
        "colab": {
          "base_uri": "https://localhost:8080/"
        },
        "id": "egjeZmnhvjkI",
        "outputId": "64b8f367-ab8f-4792-fdec-f7ccce1c195c"
      },
      "execution_count": 11,
      "outputs": [
        {
          "output_type": "stream",
          "name": "stdout",
          "text": [
            "(64, 20)\n",
            "(64, 20)\n",
            "(64, 20)\n"
          ]
        }
      ]
    },
    {
      "cell_type": "code",
      "source": [
        "class Encoder(layers.Layer):\n",
        "  def __init__(self, embed_dim, dense_dim, num_heads, **kwargs):\n",
        "    super().__init__(**kwargs)\n",
        "    self.embed_dim = embed_dim\n",
        "    self.dense_dim = dense_dim\n",
        "    self.num_heads = num_heads\n",
        "\n",
        "    self.attention = layers.MultiHeadAttention(\n",
        "        num_heads = num_heads,\n",
        "        key_dim = embed_dim\n",
        "    )\n",
        "    self.dense_proj = keras.Sequential(\n",
        "        [\n",
        "            layers.Dense(dense_dim, activation='relu'),\n",
        "            layers.Dense(embed_dim)\n",
        "        ]\n",
        "    )\n",
        "\n",
        "    self.layernorm_1 = layers.LayerNormalization()\n",
        "    self.layernorm_2 = layers.LayerNormalization()\n",
        "\n",
        "    self.support_masking = True\n",
        "\n",
        "  def call(self, inputs, mask=None):\n",
        "    if mask is not None:\n",
        "      padding_mask = ops.cast(mask[:,None,:], dtype='int32')\n",
        "    else:\n",
        "      padding_mask = None\n",
        "\n",
        "    attention_output = self.attention(\n",
        "        query=inputs,\n",
        "        key=inputs,\n",
        "        value=inputs,\n",
        "        attention_mask=padding_mask\n",
        "    )\n",
        "\n",
        "    proj_input = self.layernorm_1(inputs + attention_output)\n",
        "    proj_output = self.dense_proj(proj_input)\n",
        "    return  self.layernorm_2(proj_input + proj_output)\n",
        "\n",
        "  def get_config(self):\n",
        "    config = super().get_config()\n",
        "    config.update({\n",
        "        'embed_dim' : self.embed_dim,\n",
        "        'vocab_size' : self.vocab_size,\n",
        "        'num_heads': self.num_heads\n",
        "    })\n",
        "    return config\n"
      ],
      "metadata": {
        "id": "t1UCTnaF6xMH"
      },
      "execution_count": 20,
      "outputs": []
    },
    {
      "cell_type": "code",
      "source": [
        "class PositionalEmbedding(layers.Layer):\n",
        "  def __init__(self, seq_len, vocab_size, embed_dim, **kwargs):\n",
        "    super().__init__(**kwargs)\n",
        "    self.token_embed = layers.Embedding(\n",
        "        input_dim = vocab_size,\n",
        "        output_dim = embed_dim\n",
        "    )\n",
        "    self.pos_embed = layers.Embedding(\n",
        "        input_dim = seq_len,\n",
        "        output_dim = embed_dim\n",
        "    )\n",
        "\n",
        "    self.embed_dim = embed_dim\n",
        "    self.vocab_size = vocab_size\n",
        "    self.seq_len = seq_len\n",
        "\n",
        "  def call(self, inputs):\n",
        "    length = ops.shape(inputs)[-1]\n",
        "    positions = ops.arange(0, length, 1)\n",
        "\n",
        "    embed_token = self.token_embed(inputs)\n",
        "    embed_pos = self.pos_embed(positions)\n",
        "    return embed_token + embed_pos\n",
        "\n",
        "  def compute_mask(self, inputs, mask=None):\n",
        "    if mask is None:\n",
        "      return None\n",
        "    else:\n",
        "      return ops.not_equal(inputs, 0)\n",
        "\n",
        "\n",
        "  def get_config(self):\n",
        "    config = super.get_config()\n",
        "    config.update({\n",
        "        'seq_len': self.seq_len,\n",
        "        'vocab_size': self.vocab_size,\n",
        "        'embed_dim': self.embed_dim\n",
        "    })\n",
        "    return config"
      ],
      "metadata": {
        "id": "kiiXWxEy-RGM"
      },
      "execution_count": 19,
      "outputs": []
    },
    {
      "cell_type": "code",
      "source": [
        "class Decoder(layers.Layer):\n",
        "  def __init__(self, embed_dim, latent_dim, num_heads, **kwargs):\n",
        "    super().__init__(**kwargs)\n",
        "    self.embed_dim = embed_dim\n",
        "    self.latent_dim = latent_dim\n",
        "    self.num_heads = num_heads\n",
        "\n",
        "    self.attention_1 = layers.MultiHeadAttention(\n",
        "        num_heads = num_heads,\n",
        "        key_dim = embed_dim\n",
        "    )\n",
        "    self.attention_2 = layers.MultiHeadAttention(\n",
        "        num_heads = num_heads,\n",
        "        key_dim = embed_dim\n",
        "    )\n",
        "\n",
        "    self.dense_proj = keras.Sequential([\n",
        "        layers.Dense(latent_dim, activation='relu'),\n",
        "        layers.Dense(embed_dim)\n",
        "    ])\n",
        "\n",
        "    self.layernorm_1 = layers.LayerNormalization()\n",
        "    self.layernorm_2 = layers.LayerNormalization()\n",
        "    self.layernorm_3 = layers.LayerNormalization()\n",
        "\n",
        "    self.supports_mask = True\n",
        "\n",
        "  def call(self, inputs, encoder_outputs, mask=None):\n",
        "    causal_mask = self.get_causal_mask(inputs)\n",
        "\n",
        "    if mask is not None:\n",
        "      padding_mask = ops.cast(mask[:,None,:], dtype='int32')\n",
        "      padding_mask = ops.minimum(padding_mask, causal_mask)\n",
        "\n",
        "    else:\n",
        "      padding_mask = None\n",
        "\n",
        "    attention_output_1 = self.attention_1(\n",
        "        query=inputs,\n",
        "        key=inputs,\n",
        "        value=inputs,\n",
        "        attention_mask = causal_mask\n",
        "    )\n",
        "    out_1 = self.layernorm_1(inputs+attention_output_1)\n",
        "    attention_2 = self.attention_2(\n",
        "        query=inputs,\n",
        "        key=inputs,\n",
        "        value=inputs,\n",
        "        attention_mask = padding_mask\n",
        "    )\n",
        "\n",
        "    out_2 = self.layernorm_2(out_1 + attention_2)\n",
        "    proj_out = self.dense_proj(out_2)\n",
        "    return self.layernorm_3(proj_out + out_2)\n",
        "\n",
        "  def get_causal_mask(self, inputs):\n",
        "    input_shape = ops.shape(inputs)\n",
        "    batch_size, seq_len = input_shape[0], input_shape[1]\n",
        "\n",
        "    i = ops.arange(seq_len)[:,None]\n",
        "    j = ops.arange(seq_len)\n",
        "    mask = ops.cast(i>=j, dtype='int32')\n",
        "    mask = ops.reshape(mask, (1, input_shape[1], input_shape[1]))\n",
        "    mult = ops.concatenate([ops.expand_dims(batch_size, -1), ops.convert_to_tensor([1,1])], axis=0)\n",
        "\n",
        "    return ops.tile(mask, mult)\n",
        "\n",
        "  def get_config(self):\n",
        "    config = super().get_config()\n",
        "    config.update({\n",
        "        'embed_dim': self.embed_dim,\n",
        "        'num_heads': self.num_heads,\n",
        "        'latent_dim': self.latent_dim\n",
        "    })\n",
        "    return config"
      ],
      "metadata": {
        "id": "JlpjyBWz_ha8"
      },
      "execution_count": 21,
      "outputs": []
    },
    {
      "cell_type": "code",
      "source": [
        "embed_dim = 256\n",
        "latent_dim = 2048\n",
        "num_heads = 8\n",
        "\n",
        "encoder_inputs = keras.Input(shape=(None,), dtype='int64', name='encoder_inputs')\n",
        "x = PositionalEmbedding(seq_len, vocab_size, embed_dim)(encoder_inputs)\n",
        "encoder_outputs = Encoder(embed_dim, latent_dim, num_heads)(x)\n",
        "encoder = keras.Model(encoder_inputs, encoder_outputs)\n",
        "\n",
        "decoder_inputs = keras.Input(shape=(None,), dtype='int64', name='decoder_inputs')\n",
        "encoder_seq_inputs = keras.Input(shape=(None,embed_dim), name='decoder_state_inputs')\n",
        "x = PositionalEmbedding(seq_len, vocab_size, embed_dim)(decoder_inputs)\n",
        "x = Decoder(embed_dim, latent_dim, num_heads)(x, encoder_seq_inputs)\n",
        "x = layers.Dropout(0.5)(x)\n",
        "decoder_outputs = layers.Dense(vocab_size, activation='softmax')(x)\n",
        "decoder = keras.Model([decoder_inputs, encoder_seq_inputs], decoder_outputs)\n",
        "\n",
        "decoder_outputs = decoder([decoder_inputs, encoder_outputs])\n",
        "\n",
        "transformer = keras.Model([encoder_inputs, decoder_inputs], decoder_outputs, name='transformer')"
      ],
      "metadata": {
        "id": "kVakuzG-CACU"
      },
      "execution_count": 22,
      "outputs": []
    },
    {
      "cell_type": "code",
      "source": [
        "transformer.summary()"
      ],
      "metadata": {
        "colab": {
          "base_uri": "https://localhost:8080/",
          "height": 374
        },
        "id": "06VpNzVhDhi0",
        "outputId": "398bb5ba-c2c9-4b83-f5c6-3ae39d6045ae"
      },
      "execution_count": 16,
      "outputs": [
        {
          "output_type": "display_data",
          "data": {
            "text/plain": [
              "\u001b[1mModel: \"transformer\"\u001b[0m\n"
            ],
            "text/html": [
              "<pre style=\"white-space:pre;overflow-x:auto;line-height:normal;font-family:Menlo,'DejaVu Sans Mono',consolas,'Courier New',monospace\"><span style=\"font-weight: bold\">Model: \"transformer\"</span>\n",
              "</pre>\n"
            ]
          },
          "metadata": {}
        },
        {
          "output_type": "display_data",
          "data": {
            "text/plain": [
              "┏━━━━━━━━━━━━━━━━━━━━━━━━━━━┳━━━━━━━━━━━━━━━━━━━━━━━━┳━━━━━━━━━━━━━━━━┳━━━━━━━━━━━━━━━━━━━━━━━━┓\n",
              "┃\u001b[1m \u001b[0m\u001b[1mLayer (type)             \u001b[0m\u001b[1m \u001b[0m┃\u001b[1m \u001b[0m\u001b[1mOutput Shape          \u001b[0m\u001b[1m \u001b[0m┃\u001b[1m \u001b[0m\u001b[1m       Param #\u001b[0m\u001b[1m \u001b[0m┃\u001b[1m \u001b[0m\u001b[1mConnected to          \u001b[0m\u001b[1m \u001b[0m┃\n",
              "┡━━━━━━━━━━━━━━━━━━━━━━━━━━━╇━━━━━━━━━━━━━━━━━━━━━━━━╇━━━━━━━━━━━━━━━━╇━━━━━━━━━━━━━━━━━━━━━━━━┩\n",
              "│ encoder_inputs            │ (\u001b[38;5;45mNone\u001b[0m, \u001b[38;5;45mNone\u001b[0m)           │              \u001b[38;5;34m0\u001b[0m │ -                      │\n",
              "│ (\u001b[38;5;33mInputLayer\u001b[0m)              │                        │                │                        │\n",
              "├───────────────────────────┼────────────────────────┼────────────────┼────────────────────────┤\n",
              "│ positional_embedding      │ (\u001b[38;5;45mNone\u001b[0m, \u001b[38;5;45mNone\u001b[0m, \u001b[38;5;34m256\u001b[0m)      │      \u001b[38;5;34m3,845,120\u001b[0m │ encoder_inputs[\u001b[38;5;34m0\u001b[0m][\u001b[38;5;34m0\u001b[0m]   │\n",
              "│ (\u001b[38;5;33mPositionalEmbedding\u001b[0m)     │                        │                │                        │\n",
              "├───────────────────────────┼────────────────────────┼────────────────┼────────────────────────┤\n",
              "│ decoder_inputs            │ (\u001b[38;5;45mNone\u001b[0m, \u001b[38;5;45mNone\u001b[0m)           │              \u001b[38;5;34m0\u001b[0m │ -                      │\n",
              "│ (\u001b[38;5;33mInputLayer\u001b[0m)              │                        │                │                        │\n",
              "├───────────────────────────┼────────────────────────┼────────────────┼────────────────────────┤\n",
              "│ encoder (\u001b[38;5;33mEncoder\u001b[0m)         │ (\u001b[38;5;45mNone\u001b[0m, \u001b[38;5;45mNone\u001b[0m, \u001b[38;5;34m256\u001b[0m)      │      \u001b[38;5;34m3,155,456\u001b[0m │ positional_embedding[\u001b[38;5;34m…\u001b[0m │\n",
              "├───────────────────────────┼────────────────────────┼────────────────┼────────────────────────┤\n",
              "│ functional_3 (\u001b[38;5;33mFunctional\u001b[0m) │ (\u001b[38;5;45mNone\u001b[0m, \u001b[38;5;45mNone\u001b[0m, \u001b[38;5;34m15000\u001b[0m)    │     \u001b[38;5;34m12,959,640\u001b[0m │ decoder_inputs[\u001b[38;5;34m0\u001b[0m][\u001b[38;5;34m0\u001b[0m],  │\n",
              "│                           │                        │                │ encoder[\u001b[38;5;34m0\u001b[0m][\u001b[38;5;34m0\u001b[0m]          │\n",
              "└───────────────────────────┴────────────────────────┴────────────────┴────────────────────────┘\n"
            ],
            "text/html": [
              "<pre style=\"white-space:pre;overflow-x:auto;line-height:normal;font-family:Menlo,'DejaVu Sans Mono',consolas,'Courier New',monospace\">┏━━━━━━━━━━━━━━━━━━━━━━━━━━━┳━━━━━━━━━━━━━━━━━━━━━━━━┳━━━━━━━━━━━━━━━━┳━━━━━━━━━━━━━━━━━━━━━━━━┓\n",
              "┃<span style=\"font-weight: bold\"> Layer (type)              </span>┃<span style=\"font-weight: bold\"> Output Shape           </span>┃<span style=\"font-weight: bold\">        Param # </span>┃<span style=\"font-weight: bold\"> Connected to           </span>┃\n",
              "┡━━━━━━━━━━━━━━━━━━━━━━━━━━━╇━━━━━━━━━━━━━━━━━━━━━━━━╇━━━━━━━━━━━━━━━━╇━━━━━━━━━━━━━━━━━━━━━━━━┩\n",
              "│ encoder_inputs            │ (<span style=\"color: #00d7ff; text-decoration-color: #00d7ff\">None</span>, <span style=\"color: #00d7ff; text-decoration-color: #00d7ff\">None</span>)           │              <span style=\"color: #00af00; text-decoration-color: #00af00\">0</span> │ -                      │\n",
              "│ (<span style=\"color: #0087ff; text-decoration-color: #0087ff\">InputLayer</span>)              │                        │                │                        │\n",
              "├───────────────────────────┼────────────────────────┼────────────────┼────────────────────────┤\n",
              "│ positional_embedding      │ (<span style=\"color: #00d7ff; text-decoration-color: #00d7ff\">None</span>, <span style=\"color: #00d7ff; text-decoration-color: #00d7ff\">None</span>, <span style=\"color: #00af00; text-decoration-color: #00af00\">256</span>)      │      <span style=\"color: #00af00; text-decoration-color: #00af00\">3,845,120</span> │ encoder_inputs[<span style=\"color: #00af00; text-decoration-color: #00af00\">0</span>][<span style=\"color: #00af00; text-decoration-color: #00af00\">0</span>]   │\n",
              "│ (<span style=\"color: #0087ff; text-decoration-color: #0087ff\">PositionalEmbedding</span>)     │                        │                │                        │\n",
              "├───────────────────────────┼────────────────────────┼────────────────┼────────────────────────┤\n",
              "│ decoder_inputs            │ (<span style=\"color: #00d7ff; text-decoration-color: #00d7ff\">None</span>, <span style=\"color: #00d7ff; text-decoration-color: #00d7ff\">None</span>)           │              <span style=\"color: #00af00; text-decoration-color: #00af00\">0</span> │ -                      │\n",
              "│ (<span style=\"color: #0087ff; text-decoration-color: #0087ff\">InputLayer</span>)              │                        │                │                        │\n",
              "├───────────────────────────┼────────────────────────┼────────────────┼────────────────────────┤\n",
              "│ encoder (<span style=\"color: #0087ff; text-decoration-color: #0087ff\">Encoder</span>)         │ (<span style=\"color: #00d7ff; text-decoration-color: #00d7ff\">None</span>, <span style=\"color: #00d7ff; text-decoration-color: #00d7ff\">None</span>, <span style=\"color: #00af00; text-decoration-color: #00af00\">256</span>)      │      <span style=\"color: #00af00; text-decoration-color: #00af00\">3,155,456</span> │ positional_embedding[<span style=\"color: #00af00; text-decoration-color: #00af00\">…</span> │\n",
              "├───────────────────────────┼────────────────────────┼────────────────┼────────────────────────┤\n",
              "│ functional_3 (<span style=\"color: #0087ff; text-decoration-color: #0087ff\">Functional</span>) │ (<span style=\"color: #00d7ff; text-decoration-color: #00d7ff\">None</span>, <span style=\"color: #00d7ff; text-decoration-color: #00d7ff\">None</span>, <span style=\"color: #00af00; text-decoration-color: #00af00\">15000</span>)    │     <span style=\"color: #00af00; text-decoration-color: #00af00\">12,959,640</span> │ decoder_inputs[<span style=\"color: #00af00; text-decoration-color: #00af00\">0</span>][<span style=\"color: #00af00; text-decoration-color: #00af00\">0</span>],  │\n",
              "│                           │                        │                │ encoder[<span style=\"color: #00af00; text-decoration-color: #00af00\">0</span>][<span style=\"color: #00af00; text-decoration-color: #00af00\">0</span>]          │\n",
              "└───────────────────────────┴────────────────────────┴────────────────┴────────────────────────┘\n",
              "</pre>\n"
            ]
          },
          "metadata": {}
        },
        {
          "output_type": "display_data",
          "data": {
            "text/plain": [
              "\u001b[1m Total params: \u001b[0m\u001b[38;5;34m19,960,216\u001b[0m (76.14 MB)\n"
            ],
            "text/html": [
              "<pre style=\"white-space:pre;overflow-x:auto;line-height:normal;font-family:Menlo,'DejaVu Sans Mono',consolas,'Courier New',monospace\"><span style=\"font-weight: bold\"> Total params: </span><span style=\"color: #00af00; text-decoration-color: #00af00\">19,960,216</span> (76.14 MB)\n",
              "</pre>\n"
            ]
          },
          "metadata": {}
        },
        {
          "output_type": "display_data",
          "data": {
            "text/plain": [
              "\u001b[1m Trainable params: \u001b[0m\u001b[38;5;34m19,960,216\u001b[0m (76.14 MB)\n"
            ],
            "text/html": [
              "<pre style=\"white-space:pre;overflow-x:auto;line-height:normal;font-family:Menlo,'DejaVu Sans Mono',consolas,'Courier New',monospace\"><span style=\"font-weight: bold\"> Trainable params: </span><span style=\"color: #00af00; text-decoration-color: #00af00\">19,960,216</span> (76.14 MB)\n",
              "</pre>\n"
            ]
          },
          "metadata": {}
        },
        {
          "output_type": "display_data",
          "data": {
            "text/plain": [
              "\u001b[1m Non-trainable params: \u001b[0m\u001b[38;5;34m0\u001b[0m (0.00 B)\n"
            ],
            "text/html": [
              "<pre style=\"white-space:pre;overflow-x:auto;line-height:normal;font-family:Menlo,'DejaVu Sans Mono',consolas,'Courier New',monospace\"><span style=\"font-weight: bold\"> Non-trainable params: </span><span style=\"color: #00af00; text-decoration-color: #00af00\">0</span> (0.00 B)\n",
              "</pre>\n"
            ]
          },
          "metadata": {}
        }
      ]
    },
    {
      "cell_type": "code",
      "source": [
        "transformer.compile(\n",
        "    optimizer = keras.optimizers.RMSprop(),\n",
        "    loss = keras.losses.SparseCategoricalCrossentropy(),\n",
        "    metrics=['accuracy']\n",
        ")"
      ],
      "metadata": {
        "id": "kn5Npt3EEcNO"
      },
      "execution_count": 23,
      "outputs": []
    },
    {
      "cell_type": "code",
      "source": [
        "transformer.fit(train_ds, epochs=15, validation_data = val_ds)"
      ],
      "metadata": {
        "colab": {
          "base_uri": "https://localhost:8080/"
        },
        "id": "cpcwesyyEp13",
        "outputId": "5cc046bc-add2-433c-ebf3-04b0806ad9df"
      },
      "execution_count": 24,
      "outputs": [
        {
          "output_type": "stream",
          "name": "stdout",
          "text": [
            "Epoch 1/15\n",
            "\u001b[1m92/92\u001b[0m \u001b[32m━━━━━━━━━━━━━━━━━━━━\u001b[0m\u001b[37m\u001b[0m \u001b[1m23s\u001b[0m 154ms/step - accuracy: 0.6961 - loss: 3.8393 - val_accuracy: 0.7557 - val_loss: 1.7261\n",
            "Epoch 2/15\n",
            "\u001b[1m92/92\u001b[0m \u001b[32m━━━━━━━━━━━━━━━━━━━━\u001b[0m\u001b[37m\u001b[0m \u001b[1m5s\u001b[0m 35ms/step - accuracy: 0.7579 - loss: 1.6766 - val_accuracy: 0.7583 - val_loss: 1.6563\n",
            "Epoch 3/15\n",
            "\u001b[1m92/92\u001b[0m \u001b[32m━━━━━━━━━━━━━━━━━━━━\u001b[0m\u001b[37m\u001b[0m \u001b[1m3s\u001b[0m 34ms/step - accuracy: 0.7648 - loss: 1.5947 - val_accuracy: 0.7535 - val_loss: 1.6714\n",
            "Epoch 4/15\n",
            "\u001b[1m92/92\u001b[0m \u001b[32m━━━━━━━━━━━━━━━━━━━━\u001b[0m\u001b[37m\u001b[0m \u001b[1m5s\u001b[0m 35ms/step - accuracy: 0.7706 - loss: 1.5094 - val_accuracy: 0.7571 - val_loss: 1.5644\n",
            "Epoch 5/15\n",
            "\u001b[1m92/92\u001b[0m \u001b[32m━━━━━━━━━━━━━━━━━━━━\u001b[0m\u001b[37m\u001b[0m \u001b[1m3s\u001b[0m 34ms/step - accuracy: 0.7779 - loss: 1.4256 - val_accuracy: 0.7758 - val_loss: 1.4817\n",
            "Epoch 6/15\n",
            "\u001b[1m92/92\u001b[0m \u001b[32m━━━━━━━━━━━━━━━━━━━━\u001b[0m\u001b[37m\u001b[0m \u001b[1m3s\u001b[0m 35ms/step - accuracy: 0.7829 - loss: 1.3421 - val_accuracy: 0.7704 - val_loss: 1.4608\n",
            "Epoch 7/15\n",
            "\u001b[1m92/92\u001b[0m \u001b[32m━━━━━━━━━━━━━━━━━━━━\u001b[0m\u001b[37m\u001b[0m \u001b[1m3s\u001b[0m 35ms/step - accuracy: 0.7912 - loss: 1.2691 - val_accuracy: 0.7894 - val_loss: 1.3922\n",
            "Epoch 8/15\n",
            "\u001b[1m92/92\u001b[0m \u001b[32m━━━━━━━━━━━━━━━━━━━━\u001b[0m\u001b[37m\u001b[0m \u001b[1m5s\u001b[0m 36ms/step - accuracy: 0.7991 - loss: 1.1758 - val_accuracy: 0.7842 - val_loss: 1.3625\n",
            "Epoch 9/15\n",
            "\u001b[1m92/92\u001b[0m \u001b[32m━━━━━━━━━━━━━━━━━━━━\u001b[0m\u001b[37m\u001b[0m \u001b[1m4s\u001b[0m 39ms/step - accuracy: 0.8003 - loss: 1.1362 - val_accuracy: 0.7894 - val_loss: 1.3370\n",
            "Epoch 10/15\n",
            "\u001b[1m92/92\u001b[0m \u001b[32m━━━━━━━━━━━━━━━━━━━━\u001b[0m\u001b[37m\u001b[0m \u001b[1m3s\u001b[0m 36ms/step - accuracy: 0.8069 - loss: 1.0632 - val_accuracy: 0.7920 - val_loss: 1.3285\n",
            "Epoch 11/15\n",
            "\u001b[1m92/92\u001b[0m \u001b[32m━━━━━━━━━━━━━━━━━━━━\u001b[0m\u001b[37m\u001b[0m \u001b[1m3s\u001b[0m 35ms/step - accuracy: 0.8167 - loss: 0.9793 - val_accuracy: 0.7893 - val_loss: 1.3327\n",
            "Epoch 12/15\n",
            "\u001b[1m92/92\u001b[0m \u001b[32m━━━━━━━━━━━━━━━━━━━━\u001b[0m\u001b[37m\u001b[0m \u001b[1m5s\u001b[0m 36ms/step - accuracy: 0.8176 - loss: 0.9467 - val_accuracy: 0.7979 - val_loss: 1.3014\n",
            "Epoch 13/15\n",
            "\u001b[1m92/92\u001b[0m \u001b[32m━━━━━━━━━━━━━━━━━━━━\u001b[0m\u001b[37m\u001b[0m \u001b[1m3s\u001b[0m 36ms/step - accuracy: 0.8224 - loss: 0.9000 - val_accuracy: 0.7801 - val_loss: 1.3418\n",
            "Epoch 14/15\n",
            "\u001b[1m92/92\u001b[0m \u001b[32m━━━━━━━━━━━━━━━━━━━━\u001b[0m\u001b[37m\u001b[0m \u001b[1m5s\u001b[0m 36ms/step - accuracy: 0.8302 - loss: 0.8428 - val_accuracy: 0.7946 - val_loss: 1.2935\n",
            "Epoch 15/15\n",
            "\u001b[1m92/92\u001b[0m \u001b[32m━━━━━━━━━━━━━━━━━━━━\u001b[0m\u001b[37m\u001b[0m \u001b[1m5s\u001b[0m 36ms/step - accuracy: 0.8344 - loss: 0.7920 - val_accuracy: 0.7980 - val_loss: 1.2870\n"
          ]
        },
        {
          "output_type": "execute_result",
          "data": {
            "text/plain": [
              "<keras.src.callbacks.history.History at 0x7d66fc93f520>"
            ]
          },
          "metadata": {},
          "execution_count": 24
        }
      ]
    },
    {
      "cell_type": "code",
      "source": [
        "ban_vocab = ben_vect.get_vocabulary()\n",
        "ban_index_lookup = dict(zip(range(len(ban_vocab)), ban_vocab))\n",
        "max_decoded_sentence_length = 20\n",
        "\n",
        "def decode_sentence(input_sentence):\n",
        "  tokenized_input_sentence = eng_vect([input_sentence])\n",
        "\n",
        "  decoded_sentence = \"[start]\"\n",
        "\n",
        "  for i in range(max_decoded_sentence_length):\n",
        "    tokenized_target_sentence = ben_vect([decoded_sentence])[:,:-1]\n",
        "    preds = transformer([tokenized_input_sentence, tokenized_target_sentence])\n",
        "\n",
        "    sampled_token_index = ops.convert_to_numpy(\n",
        "        ops.argmax(preds[0,i,:])\n",
        "    ).item(0)\n",
        "    sampled_token = ban_index_lookup[sampled_token_index]\n",
        "    decoded_sentence += \" \" + sampled_token\n",
        "\n",
        "    if sampled_token == \"[end]\":\n",
        "      break\n",
        "\n",
        "  return decoded_sentence\n",
        "\n",
        "\n",
        "test_eng_texts = [pair[0] for pair in test_pairs]\n",
        "for i in range(10):\n",
        "  input_sentence = test_eng_texts[i]\n",
        "  translated = decode_sentence(input_sentence)\n",
        "\n",
        "  print(f\"\\nEnglish : {input_sentence}\")\n",
        "  print(f\"Bangla : {translated}\")"
      ],
      "metadata": {
        "id": "7p0Ln6roGvoF"
      },
      "execution_count": null,
      "outputs": []
    }
  ]
}